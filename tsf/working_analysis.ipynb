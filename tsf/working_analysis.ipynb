{
 "cells": [
  {
   "cell_type": "code",
   "execution_count": 1,
   "metadata": {
    "collapsed": true,
    "deletable": true,
    "editable": true
   },
   "outputs": [],
   "source": [
    "import learner as sl\n",
    "import timeseries as ts\n",
    "from volproxy import *"
   ]
  },
  {
   "cell_type": "code",
   "execution_count": 4,
   "metadata": {
    "collapsed": false,
    "deletable": true,
    "editable": true
   },
   "outputs": [
    {
     "data": {
      "text/plain": [
       "2008-05-07    288\n",
       "2008-05-08    288\n",
       "2008-05-09    288\n",
       "2008-05-10      0\n",
       "2008-05-11      0\n",
       "2008-05-12    288\n",
       "2008-05-13    288\n",
       "2008-05-14    288\n",
       "2008-05-15    288\n",
       "2008-05-16    288\n",
       "2008-05-17      0\n",
       "2008-05-18      0\n",
       "2008-05-19    288\n",
       "2008-05-20    288\n",
       "2008-05-21    288\n",
       "2008-05-22    288\n",
       "2008-05-23    288\n",
       "2008-05-24      0\n",
       "2008-05-25      0\n",
       "2008-05-26    288\n",
       "2008-05-27    288\n",
       "2008-05-28    288\n",
       "2008-05-29    288\n",
       "2008-05-30    288\n",
       "2008-05-31      0\n",
       "2008-06-01      0\n",
       "2008-06-02    288\n",
       "2008-06-03    288\n",
       "2008-06-04    288\n",
       "2008-06-05    288\n",
       "             ... \n",
       "2013-04-02    288\n",
       "2013-04-03    288\n",
       "2013-04-04    288\n",
       "2013-04-05    288\n",
       "2013-04-06      0\n",
       "2013-04-07      0\n",
       "2013-04-08    288\n",
       "2013-04-09    288\n",
       "2013-04-10    288\n",
       "2013-04-11    288\n",
       "2013-04-12    288\n",
       "2013-04-13      0\n",
       "2013-04-14      0\n",
       "2013-04-15    288\n",
       "2013-04-16    288\n",
       "2013-04-17    288\n",
       "2013-04-18    288\n",
       "2013-04-19    288\n",
       "2013-04-20      0\n",
       "2013-04-21      0\n",
       "2013-04-22    288\n",
       "2013-04-23    288\n",
       "2013-04-24    288\n",
       "2013-04-25    288\n",
       "2013-04-26    288\n",
       "2013-04-27      0\n",
       "2013-04-28      0\n",
       "2013-04-29    288\n",
       "2013-04-30    288\n",
       "2013-05-01     95\n",
       "Freq: D, Name: Close, dtype: int64"
      ]
     },
     "execution_count": 4,
     "metadata": {},
     "output_type": "execute_result"
    }
   ],
   "source": [
    "#Loading of AUD-USD currency exchange rate\n",
    "tsdf=ts.TimeSeriesDF(\"../data/aaUDUSD.csv\")\n",
    "\n",
    "tsdf.getDaily()[\"Close\"].count()\n"
   ]
  },
  {
   "cell_type": "code",
   "execution_count": 5,
   "metadata": {
    "collapsed": false
   },
   "outputs": [
    {
     "data": {
      "text/plain": [
       "2008-05-11     864\n",
       "2008-05-18    1440\n",
       "2008-05-25    1440\n",
       "2008-06-01    1440\n",
       "2008-06-08    1440\n",
       "2008-06-15    1440\n",
       "2008-06-22    1440\n",
       "2008-06-29    1440\n",
       "2008-07-06    1440\n",
       "2008-07-13    1440\n",
       "2008-07-20    1440\n",
       "2008-07-27    1440\n",
       "2008-08-03    1440\n",
       "2008-08-10    1440\n",
       "2008-08-17    1440\n",
       "2008-08-24    1440\n",
       "2008-08-31    1440\n",
       "2008-09-07    1440\n",
       "2008-09-14    1440\n",
       "2008-09-21    1440\n",
       "2008-09-28    1440\n",
       "2008-10-05    1440\n",
       "2008-10-12    1440\n",
       "2008-10-19    1440\n",
       "2008-10-26    1440\n",
       "2008-11-02    1440\n",
       "2008-11-09    1440\n",
       "2008-11-16    1440\n",
       "2008-11-23    1440\n",
       "2008-11-30    1440\n",
       "              ... \n",
       "2012-10-14    1440\n",
       "2012-10-21    1440\n",
       "2012-10-28    1440\n",
       "2012-11-04    1440\n",
       "2012-11-11    1440\n",
       "2012-11-18    1440\n",
       "2012-11-25    1440\n",
       "2012-12-02    1440\n",
       "2012-12-09    1440\n",
       "2012-12-16    1440\n",
       "2012-12-23    1440\n",
       "2012-12-30    1440\n",
       "2013-01-06    1440\n",
       "2013-01-13    1440\n",
       "2013-01-20    1440\n",
       "2013-01-27    1440\n",
       "2013-02-03    1440\n",
       "2013-02-10    1440\n",
       "2013-02-17    1440\n",
       "2013-02-24    1440\n",
       "2013-03-03    1440\n",
       "2013-03-10    1440\n",
       "2013-03-17    1440\n",
       "2013-03-24    1440\n",
       "2013-03-31    1440\n",
       "2013-04-07    1440\n",
       "2013-04-14    1440\n",
       "2013-04-21    1440\n",
       "2013-04-28    1440\n",
       "2013-05-05     671\n",
       "Freq: W-SUN, Name: Close, dtype: int64"
      ]
     },
     "execution_count": 5,
     "metadata": {},
     "output_type": "execute_result"
    }
   ],
   "source": [
    "tsdf.getWeekly()[\"Close\"].count()"
   ]
  },
  {
   "cell_type": "code",
   "execution_count": 6,
   "metadata": {
    "collapsed": false
   },
   "outputs": [
    {
     "data": {
      "text/plain": [
       "2008-05-31    5184\n",
       "2008-06-30    6048\n",
       "2008-07-31    6624\n",
       "2008-08-31    6048\n",
       "2008-09-30    6336\n",
       "2008-10-31    6624\n",
       "2008-11-30    5760\n",
       "2008-12-31    6624\n",
       "2009-01-31    6336\n",
       "2009-02-28    5760\n",
       "2009-03-31    6336\n",
       "2009-04-30    6336\n",
       "2009-05-31    6048\n",
       "2009-06-30    6336\n",
       "2009-07-31    6624\n",
       "2009-08-31    6048\n",
       "2009-09-30    6336\n",
       "2009-10-31    6336\n",
       "2009-11-30    6048\n",
       "2009-12-31    6624\n",
       "2010-01-31    6048\n",
       "2010-02-28    5760\n",
       "2010-03-31    6624\n",
       "2010-04-30    6336\n",
       "2010-05-31    6048\n",
       "2010-06-30    6336\n",
       "2010-07-31    6336\n",
       "2010-08-31    6336\n",
       "2010-09-30    6336\n",
       "2010-10-31    6048\n",
       "              ... \n",
       "2010-12-31    6624\n",
       "2011-01-31    6048\n",
       "2011-02-28    5760\n",
       "2011-03-31    6624\n",
       "2011-04-30    6048\n",
       "2011-05-31    6336\n",
       "2011-06-30    6336\n",
       "2011-07-31    6048\n",
       "2011-08-31    6624\n",
       "2011-09-30    6336\n",
       "2011-10-31    6048\n",
       "2011-11-30    6336\n",
       "2011-12-31    6336\n",
       "2012-01-31    6336\n",
       "2012-02-29    6048\n",
       "2012-03-31    6336\n",
       "2012-04-30    6048\n",
       "2012-05-31    6624\n",
       "2012-06-30    6048\n",
       "2012-07-31    6336\n",
       "2012-08-31    6624\n",
       "2012-09-30    5760\n",
       "2012-10-31    6624\n",
       "2012-11-30    6336\n",
       "2012-12-31    6048\n",
       "2013-01-31    6624\n",
       "2013-02-28    5760\n",
       "2013-03-31    6048\n",
       "2013-04-30    6336\n",
       "2013-05-31      95\n",
       "Freq: M, Name: Close, dtype: int64"
      ]
     },
     "execution_count": 6,
     "metadata": {},
     "output_type": "execute_result"
    }
   ],
   "source": [
    "tsdf.getMonthly()[\"Close\"].count()"
   ]
  },
  {
   "cell_type": "code",
   "execution_count": 9,
   "metadata": {
    "collapsed": false
   },
   "outputs": [
    {
     "data": {
      "text/plain": [
       "2008-05-06 17:00:00    480\n",
       "2008-05-08 16:00:00    288\n",
       "2008-05-09 16:00:00    288\n",
       "2008-05-12 16:00:00    288\n",
       "2008-05-13 16:00:00    288\n",
       "2008-05-14 16:00:00    288\n",
       "2008-05-15 16:00:00    288\n",
       "2008-05-16 16:00:00    288\n",
       "2008-05-19 16:00:00    288\n",
       "2008-05-20 16:00:00    288\n",
       "2008-05-21 16:00:00    288\n",
       "2008-05-22 16:00:00    288\n",
       "2008-05-23 16:00:00    288\n",
       "2008-05-26 16:00:00    288\n",
       "2008-05-27 16:00:00    288\n",
       "2008-05-28 16:00:00    288\n",
       "2008-05-29 16:00:00    288\n",
       "2008-05-30 16:00:00    288\n",
       "2008-06-02 16:00:00    288\n",
       "2008-06-03 16:00:00    288\n",
       "2008-06-04 16:00:00    288\n",
       "2008-06-05 16:00:00    288\n",
       "2008-06-06 16:00:00    288\n",
       "2008-06-09 16:00:00    288\n",
       "2008-06-10 16:00:00    288\n",
       "2008-06-11 16:00:00    288\n",
       "2008-06-12 16:00:00    288\n",
       "2008-06-13 16:00:00    288\n",
       "2008-06-16 16:00:00    288\n",
       "2008-06-17 16:00:00    288\n",
       "                      ... \n",
       "2013-03-21 16:00:00    288\n",
       "2013-03-22 16:00:00    288\n",
       "2013-03-25 16:00:00    288\n",
       "2013-03-26 16:00:00    288\n",
       "2013-03-27 16:00:00    288\n",
       "2013-03-28 16:00:00    288\n",
       "2013-03-29 16:00:00    288\n",
       "2013-04-01 16:00:00    288\n",
       "2013-04-02 16:00:00    288\n",
       "2013-04-03 16:00:00    288\n",
       "2013-04-04 16:00:00    288\n",
       "2013-04-05 16:00:00    288\n",
       "2013-04-08 16:00:00    288\n",
       "2013-04-09 16:00:00    288\n",
       "2013-04-10 16:00:00    288\n",
       "2013-04-11 16:00:00    288\n",
       "2013-04-12 16:00:00    288\n",
       "2013-04-15 16:00:00    288\n",
       "2013-04-16 16:00:00    288\n",
       "2013-04-17 16:00:00    288\n",
       "2013-04-18 16:00:00    288\n",
       "2013-04-19 16:00:00    288\n",
       "2013-04-22 16:00:00    288\n",
       "2013-04-23 16:00:00    288\n",
       "2013-04-24 16:00:00    288\n",
       "2013-04-25 16:00:00    288\n",
       "2013-04-26 16:00:00    288\n",
       "2013-04-29 16:00:00    288\n",
       "2013-04-30 16:00:00    191\n",
       "2013-05-01 16:00:00      0\n",
       "Freq: CBH, Name: Close, dtype: int64"
      ]
     },
     "execution_count": 9,
     "metadata": {},
     "output_type": "execute_result"
    }
   ],
   "source": [
    "from pandas.tseries.offsets import CustomBusinessMonthBegin, CustomBusinessHour\n",
    "bh = CustomBusinessHour(start='16:00',weekmask='Sun Mon Tue Wed Thu Fri')\n",
    "tsdf.df.groupby(pd.TimeGrouper(freq=bh))[\"Close\"].count()\n"
   ]
  },
  {
   "cell_type": "code",
   "execution_count": 89,
   "metadata": {
    "collapsed": false
   },
   "outputs": [],
   "source": [
    "dt = tsdf.df.index\n",
    "dt\n",
    "dt =  dt + pd.offsets.Hour(8) + pd.offsets.Minute(-5)\n",
    "dt\n",
    "tsdf.df.index = dt"
   ]
  },
  {
   "cell_type": "code",
   "execution_count": 3,
   "metadata": {
    "collapsed": false
   },
   "outputs": [
    {
     "data": {
      "text/plain": [
       "2008-05-07    288\n",
       "2008-05-08    288\n",
       "2008-05-09    288\n",
       "2008-05-10      0\n",
       "2008-05-11      0\n",
       "2008-05-12    288\n",
       "2008-05-13    288\n",
       "2008-05-14    288\n",
       "2008-05-15    288\n",
       "2008-05-16    288\n",
       "2008-05-17      0\n",
       "2008-05-18      0\n",
       "2008-05-19    288\n",
       "2008-05-20    288\n",
       "2008-05-21    288\n",
       "2008-05-22    288\n",
       "2008-05-23    288\n",
       "2008-05-24      0\n",
       "2008-05-25      0\n",
       "2008-05-26    288\n",
       "2008-05-27    288\n",
       "2008-05-28    288\n",
       "2008-05-29    288\n",
       "2008-05-30    103\n",
       "Freq: D, Name: Close, dtype: int64"
      ]
     },
     "execution_count": 3,
     "metadata": {},
     "output_type": "execute_result"
    }
   ],
   "source": [
    "tsdf.getDaily()[\"Close\"].count()"
   ]
  },
  {
   "cell_type": "code",
   "execution_count": 86,
   "metadata": {
    "collapsed": false
   },
   "outputs": [
    {
     "data": {
      "text/plain": [
       "2008-05-11     864\n",
       "2008-05-18    1440\n",
       "2008-05-25    1440\n",
       "2008-06-01    1255\n",
       "Freq: W-SUN, Name: Close, dtype: int64"
      ]
     },
     "execution_count": 86,
     "metadata": {},
     "output_type": "execute_result"
    }
   ],
   "source": [
    "tsdf.getWeekly()[\"Close\"].count()"
   ]
  },
  {
   "cell_type": "code",
   "execution_count": 6,
   "metadata": {
    "collapsed": false,
    "deletable": true,
    "editable": true
   },
   "outputs": [],
   "source": [
    "tsdf_returns = Returns.compute(tsdf)\n",
    "vol = Volatilities(tsdf_returns.getDaily())\n",
    "vol.annualize()\n",
    "vol.vols.dropna(inplace=True)"
   ]
  },
  {
   "cell_type": "code",
   "execution_count": 24,
   "metadata": {
    "collapsed": false,
    "deletable": true,
    "editable": true
   },
   "outputs": [
    {
     "data": {
      "text/html": [
       "<div>\n",
       "<table border=\"1\" class=\"dataframe\">\n",
       "  <thead>\n",
       "    <tr style=\"text-align: right;\">\n",
       "      <th></th>\n",
       "      <th>OpenReturn</th>\n",
       "      <th>HighReturn</th>\n",
       "      <th>LowReturn</th>\n",
       "      <th>CloseReturn</th>\n",
       "    </tr>\n",
       "  </thead>\n",
       "  <tbody>\n",
       "    <tr>\n",
       "      <th>2011-11-06</th>\n",
       "      <td>0.002661</td>\n",
       "      <td>0.002661</td>\n",
       "      <td>0.021296</td>\n",
       "      <td>0.0</td>\n",
       "    </tr>\n",
       "  </tbody>\n",
       "</table>\n",
       "</div>"
      ],
      "text/plain": [
       "            OpenReturn  HighReturn  LowReturn  CloseReturn\n",
       "2011-11-06    0.002661    0.002661   0.021296          0.0"
      ]
     },
     "execution_count": 24,
     "metadata": {},
     "output_type": "execute_result"
    }
   ],
   "source": [
    "import numpy as np\n",
    "#np.where(vol.vols[\"CloseReturn\"] == 0)\n",
    "vol.vols[vol.vols['CloseReturn'] == 0]"
   ]
  },
  {
   "cell_type": "code",
   "execution_count": 29,
   "metadata": {
    "collapsed": false,
    "deletable": true,
    "editable": true
   },
   "outputs": [
    {
     "data": {
      "text/html": [
       "<div>\n",
       "<table border=\"1\" class=\"dataframe\">\n",
       "  <thead>\n",
       "    <tr style=\"text-align: right;\">\n",
       "      <th></th>\n",
       "      <th>OpenReturn</th>\n",
       "      <th>HighReturn</th>\n",
       "      <th>LowReturn</th>\n",
       "      <th>CloseReturn</th>\n",
       "    </tr>\n",
       "  </thead>\n",
       "  <tbody>\n",
       "  </tbody>\n",
       "</table>\n",
       "</div>"
      ],
      "text/plain": [
       "Empty DataFrame\n",
       "Columns: [OpenReturn, HighReturn, LowReturn, CloseReturn]\n",
       "Index: []"
      ]
     },
     "execution_count": 29,
     "metadata": {},
     "output_type": "execute_result"
    }
   ],
   "source": [
    "vol.vols[vol.vols['OpenReturn']<=0]"
   ]
  },
  {
   "cell_type": "code",
   "execution_count": 30,
   "metadata": {
    "collapsed": true,
    "deletable": true,
    "editable": true
   },
   "outputs": [],
   "source": [
    "LR = sl.StatLearner.linearRegresser(vol.vols,colname=\"OpenReturn\",training_size=400)"
   ]
  },
  {
   "cell_type": "code",
   "execution_count": 31,
   "metadata": {
    "collapsed": false,
    "deletable": true,
    "editable": true
   },
   "outputs": [
    {
     "data": {
      "text/html": [
       "<div>\n",
       "<table border=\"1\" class=\"dataframe\">\n",
       "  <thead>\n",
       "    <tr style=\"text-align: right;\">\n",
       "      <th></th>\n",
       "      <th>MQL</th>\n",
       "      <th>MSE</th>\n",
       "      <th>params</th>\n",
       "    </tr>\n",
       "  </thead>\n",
       "  <tbody>\n",
       "    <tr>\n",
       "      <th>linearRegresser_3</th>\n",
       "      <td>0.029048</td>\n",
       "      <td>0.001109</td>\n",
       "      <td>{'all_coeffs': [[-0.0869954594571, [ 0.1614987...</td>\n",
       "    </tr>\n",
       "  </tbody>\n",
       "</table>\n",
       "</div>"
      ],
      "text/plain": [
       "                        MQL       MSE  \\\n",
       "linearRegresser_3  0.029048  0.001109   \n",
       "\n",
       "                                                              params  \n",
       "linearRegresser_3  {'all_coeffs': [[-0.0869954594571, [ 0.1614987...  "
      ]
     },
     "execution_count": 31,
     "metadata": {},
     "output_type": "execute_result"
    }
   ],
   "source": [
    "LR"
   ]
  },
  {
   "cell_type": "code",
   "execution_count": null,
   "metadata": {
    "collapsed": true,
    "deletable": true,
    "editable": true
   },
   "outputs": [],
   "source": []
  }
 ],
 "metadata": {
  "kernelspec": {
   "display_name": "Python 3",
   "language": "python",
   "name": "python3"
  },
  "language_info": {
   "codemirror_mode": {
    "name": "ipython",
    "version": 3
   },
   "file_extension": ".py",
   "mimetype": "text/x-python",
   "name": "python",
   "nbconvert_exporter": "python",
   "pygments_lexer": "ipython3",
   "version": "3.5.2"
  }
 },
 "nbformat": 4,
 "nbformat_minor": 2
}
